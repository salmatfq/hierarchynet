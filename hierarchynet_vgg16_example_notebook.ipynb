{
 "cells": [
  {
   "cell_type": "markdown",
   "metadata": {},
   "source": [
    "## HierarchyNet Example (Base: VGG-16)\n",
    "\n",
    "Salma Taoufiq"
   ]
  },
  {
   "cell_type": "markdown",
   "metadata": {
    "tags": []
   },
   "source": [
    "This notebook provides an example implementation of the HierarchyNet architecture on a VGG-16 base model."
   ]
  },
  {
   "cell_type": "markdown",
   "metadata": {},
   "source": [
    "### Setting the stage"
   ]
  },
  {
   "cell_type": "code",
   "execution_count": null,
   "metadata": {
    "executionInfo": {
     "elapsed": 1314,
     "status": "ok",
     "timestamp": 1710163162090,
     "user": {
      "displayName": "Salma Tfq",
      "userId": "10693606684911965000"
     },
     "user_tz": -60
    },
    "id": "k-SGTwQlDbg2",
    "tags": []
   },
   "outputs": [],
   "source": [
    "import tensorflow as tf\n",
    "import keras\n",
    "import matplotlib.pyplot as plt\n",
    "from keras.utils import get_file\n",
    "from keras import Sequential, Model\n",
    "from keras.layers import Input, Conv2D, MaxPooling2D, Dense, Dropout, Flatten, BatchNormalization, Lambda, Softmax, concatenate\n",
    "from keras.optimizers import SGD\n",
    "from keras import backend\n",
    "import os\n",
    "import numpy as np\n",
    "from sklearn.model_selection import train_test_split\n",
    "from sklearn import metrics\n",
    "import seaborn as sns\n"
   ]
  },
  {
   "cell_type": "code",
   "execution_count": null,
   "metadata": {
    "executionInfo": {
     "elapsed": 4,
     "status": "ok",
     "timestamp": 1710163162090,
     "user": {
      "displayName": "Salma Tfq",
      "userId": "10693606684911965000"
     },
     "user_tz": -60
    },
    "id": "BsYx-MEEUqvM",
    "tags": []
   },
   "outputs": [],
   "source": [
    "# Working with 3-channel (RGB) 224x224 images for the VGG16 model\n",
    "INPUT_SHAPE = (224, 224, 3)\n",
    "COARSE_CATEGORIES = ['Religious', 'Residential', 'Commercial', 'Business']\n",
    "FINE_CATEGORIES = ['Church', 'Mosque', 'Synagogue', 'BuddhistTemple', 'House', 'ApartmentBuilding', 'Mall', 'Store', 'Restaurant', 'OfficeBuilding']\n",
    "NB_COARSE_CLASSES = 4\n",
    "NB_FINE_CLASSES = 10"
   ]
  },
  {
   "cell_type": "code",
   "execution_count": null,
   "metadata": {
    "executionInfo": {
     "elapsed": 3,
     "status": "ok",
     "timestamp": 1710163162090,
     "user": {
      "displayName": "Salma Tfq",
      "userId": "10693606684911965000"
     },
     "user_tz": -60
    },
    "id": "rsbBp0sE5r0L",
    "tags": []
   },
   "outputs": [],
   "source": [
    "#Definining the mapping fine:coarse\n",
    "fine_to_coarse = {0:0, 1:0, 2:0, 3:0, 4:1, 5:1, 6:2, 7:2, 8:2, 9:3}"
   ]
  },
  {
   "cell_type": "markdown",
   "metadata": {
    "id": "mVT1OisHMEJd"
   },
   "source": [
    "#### Reading the dataset:"
   ]
  },
  {
   "cell_type": "code",
   "execution_count": null,
   "metadata": {
    "executionInfo": {
     "elapsed": 44953,
     "status": "ok",
     "timestamp": 1710163231017,
     "user": {
      "displayName": "Salma Tfq",
      "userId": "10693606684911965000"
     },
     "user_tz": -60
    },
    "id": "qGAt3erCMCvn",
    "tags": []
   },
   "outputs": [],
   "source": [
    "photos = np.load('./FinalDatasetPhotos_array.npy', allow_pickle=True)\n",
    "fine_labels = np.load('./FinalDatasetLabels_array.npy', allow_pickle=True)"
   ]
  },
  {
   "cell_type": "code",
   "execution_count": null,
   "metadata": {
    "tags": []
   },
   "outputs": [],
   "source": [
    "from keras.layers import Lambda\n",
    "\n",
    "def crop(dimension, start, end):\n",
    "    '''\n",
    "    Crops a Tensor from start to end on the specified dimension\n",
    "    '''\n",
    "    def func(x):\n",
    "        slices = [slice(None)] * x.ndim\n",
    "        slices[dimension] = slice(start, end)\n",
    "        return x[tuple(slices)]\n",
    "    return Lambda(func)\n"
   ]
  },
  {
   "cell_type": "code",
   "execution_count": null,
   "metadata": {
    "executionInfo": {
     "elapsed": 5,
     "status": "ok",
     "timestamp": 1710163231018,
     "user": {
      "displayName": "Salma Tfq",
      "userId": "10693606684911965000"
     },
     "user_tz": -60
    },
    "id": "RRmBseb-R7rf",
    "tags": []
   },
   "outputs": [],
   "source": [
    "def proba_product(tensors):\n",
    "    '''\n",
    "    Returns the element-wise product of two tensors.\n",
    "    '''\n",
    "    return(tf.multiply(tensors[0], tensors[1]))"
   ]
  },
  {
   "cell_type": "code",
   "execution_count": null,
   "metadata": {
    "executionInfo": {
     "elapsed": 4,
     "status": "ok",
     "timestamp": 1710163231018,
     "user": {
      "displayName": "Salma Tfq",
      "userId": "10693606684911965000"
     },
     "user_tz": -60
    },
    "id": "qmrDMl6GOhsf",
    "tags": []
   },
   "outputs": [],
   "source": [
    "# Define the custom multiplicative layer\n",
    "custom_layer = Lambda(proba_product)"
   ]
  },
  {
   "cell_type": "code",
   "execution_count": null,
   "metadata": {
    "colab": {
     "base_uri": "https://localhost:8080/"
    },
    "executionInfo": {
     "elapsed": 2907,
     "status": "ok",
     "timestamp": 1710163233921,
     "user": {
      "displayName": "Salma Tfq",
      "userId": "10693606684911965000"
     },
     "user_tz": -60
    },
    "id": "9u25YVr_XBq_",
    "outputId": "eb615498-e890-4d39-e60e-f1aa6fa979c7",
    "tags": []
   },
   "outputs": [],
   "source": [
    "# Importing the weights of the pretrained VGG16\n",
    "weights_file = 'https://github.com/fchollet/deep-learning-models/releases/download/v0.1/vgg16_weights_tf_dim_ordering_tf_kernels.h5'\n",
    "weights = get_file('vgg16_weights_tf_dim_ordering_tf_kernels.h5', weights_file, cache_subdir='models')"
   ]
  },
  {
   "cell_type": "code",
   "execution_count": null,
   "metadata": {
    "tags": []
   },
   "outputs": [],
   "source": [
    "#!nvidia-smi"
   ]
  },
  {
   "cell_type": "code",
   "execution_count": null,
   "metadata": {
    "executionInfo": {
     "elapsed": 5,
     "status": "ok",
     "timestamp": 1710163234989,
     "user": {
      "displayName": "Salma Tfq",
      "userId": "10693606684911965000"
     },
     "user_tz": -60
    },
    "id": "mFIN9T0unxtw",
    "tags": []
   },
   "outputs": [],
   "source": [
    "loss_w1 = 0.3 #tf.Variable(initial_value=0.3, dtype=\"float32\", name=\"coarse_loss_weight\")\n",
    "loss_w2 = 0.7 #tf.Variable(initial_value=0.7, dtype=\"float32\", name=\"fine_loss_weight\")"
   ]
  },
  {
   "cell_type": "code",
   "execution_count": null,
   "metadata": {
    "executionInfo": {
     "elapsed": 4,
     "status": "ok",
     "timestamp": 1710163234989,
     "user": {
      "displayName": "Salma Tfq",
      "userId": "10693606684911965000"
     },
     "user_tz": -60
    },
    "id": "ADFjp9DUnvBM",
    "tags": []
   },
   "outputs": [],
   "source": [
    "#loss_w1: Loss weight for the coarse branch\n",
    "#loss_w2: Loss weight for the fine branch\n",
    "\n",
    "class ModifyLossWeights(keras.callbacks.Callback):\n",
    "    def __init__(self, loss_w1, loss_w2):\n",
    "        self.loss_w1 = loss_w1\n",
    "        self.loss_w2 = loss_w2\n",
    "    def on_epoch_end(self, epoch, logs={}):\n",
    "        if epoch == 15:\n",
    "            keras.backend.set_value(self.loss_w1, 0.5)\n",
    "            keras.backend.set_value(self.loss_w2, 0.5)\n",
    "        #if epoch == 35:\n",
    "          #keras.backend.set_value(self.loss_w1, 0)\n",
    "          #keras.backend.set_value(self.loss_w2, 1)"
   ]
  },
  {
   "cell_type": "code",
   "execution_count": null,
   "metadata": {
    "executionInfo": {
     "elapsed": 999,
     "status": "ok",
     "timestamp": 1710163235984,
     "user": {
      "displayName": "Salma Tfq",
      "userId": "10693606684911965000"
     },
     "user_tz": -60
    },
    "id": "3cPM2wjLVFhc",
    "tags": []
   },
   "outputs": [],
   "source": [
    "#np.random.seed(0)\n",
    "\n",
    "# Model input\n",
    "model_input = Input(shape=INPUT_SHAPE, name='image_input')\n",
    "# Block 1\n",
    "model = Conv2D(64, (3,3), padding='same', activation='relu', name='block1_conv1')(model_input)\n",
    "model = BatchNormalization()(model)\n",
    "model = Conv2D(64, (3,3), padding='same', activation='relu', name='block1_conv2')(model)\n",
    "model = BatchNormalization()(model)\n",
    "model = MaxPooling2D((2,2), strides=(2,2), name='block1_pool')(model)\n",
    "# Block 2\n",
    "model = Conv2D(128, (3,3), padding='same', activation='relu', name='block2_conv1')(model)\n",
    "model = BatchNormalization()(model)\n",
    "model = Conv2D(128, (3,3), padding='same', activation='relu', name='block2_conv2')(model)\n",
    "model = BatchNormalization()(model)\n",
    "model = MaxPooling2D((2,2), strides=(2,2), name='block2_pool')(model)\n",
    "# Block 3\n",
    "model = Conv2D(256, (3,3), padding='same', activation='relu', name='block3_conv1')(model)\n",
    "model = BatchNormalization()(model)\n",
    "model = Conv2D(256, (3,3), padding='same', activation='relu', name='block3_conv2')(model)\n",
    "model = BatchNormalization()(model)\n",
    "model = Conv2D(256, (3,3), padding='same', activation='relu', name='block3_conv3')(model)\n",
    "model = BatchNormalization()(model)\n",
    "model = MaxPooling2D((2,2), strides=(2,2), name='block3_pool')(model)\n",
    "# Block 4\n",
    "model = Conv2D(512, (3,3), padding='same', activation='relu', name='block4_conv1')(model)\n",
    "model = BatchNormalization()(model)\n",
    "model = Conv2D(512, (3,3), padding='same', activation='relu', name='block4_conv2')(model)\n",
    "model = BatchNormalization()(model)\n",
    "model = Conv2D(512, (3,3), padding='same', activation='relu', name='block4_conv3')(model)\n",
    "model = BatchNormalization()(model)\n",
    "model = MaxPooling2D((2,2), strides=(2,2), name='block4_pool')(model)\n",
    "# Block 5\n",
    "model = Conv2D(512, (3,3), padding='same', activation='relu', name='block5_conv1')(model)\n",
    "model = BatchNormalization()(model)\n",
    "model = Conv2D(512, (3,3), padding='same', activation='relu', name='block5_conv2')(model)\n",
    "model = BatchNormalization()(model)\n",
    "model = Conv2D(512, (3,3), padding='same', activation='relu', name='block5_conv3')(model)\n",
    "model = BatchNormalization()(model)\n",
    "model = MaxPooling2D((2,2), strides=(2,2), name='block5_pool')(model)\n",
    "\n",
    "flatten = Flatten(name='c_flatten')(model)\n",
    "branch = Dense(256, activation='relu', name='c_dense1')(flatten)\n",
    "branch = BatchNormalization()(branch)\n",
    "branch = Dropout(0.5)(branch)\n",
    "branch = Dense(128, activation='relu', name='c_dense2')(branch)\n",
    "branch = BatchNormalization()(branch)\n",
    "branch = Dropout(0.45)(branch)\n",
    "\n",
    "coarse_branch = Dense(NB_COARSE_CLASSES)(branch)\n",
    "\n",
    "coarse_1 = crop(1, 0, 1)(coarse_branch)\n",
    "coarse_2 = crop(1, 1, 2)(coarse_branch)\n",
    "coarse_3 = crop(1, 2, 3)(coarse_branch)\n",
    "coarse_4 = crop(1, 3, 4)(coarse_branch)\n",
    "\n",
    "coarse_pred = Softmax(name='coarse_prediction')(coarse_branch)\n",
    "\n",
    "subclasses = Dense(NB_FINE_CLASSES)(branch)\n",
    "sub_1 = crop(1, 0, 4)(subclasses)\n",
    "sub_2 = crop(1, 4, 6)(subclasses)\n",
    "sub_3 = crop(1, 6, 9)(subclasses)\n",
    "sub_4 = crop(1, 9, 10)(subclasses)\n",
    "\n",
    "fine_1= custom_layer([coarse_1, sub_1])\n",
    "fine_2= custom_layer([coarse_2, sub_2])\n",
    "fine_3= custom_layer([coarse_3, sub_3])\n",
    "fine_4 = custom_layer([coarse_4, sub_4])\n",
    "\n",
    "merged_fine = concatenate([fine_1, fine_2, fine_3, fine_4])\n",
    "fine_pred = Softmax(name='fine_prediction')(merged_fine)\n",
    "\n",
    "model = Model(inputs=model_input, outputs=[coarse_pred, fine_pred])\n",
    "model.load_weights(weights, by_name=True)\n",
    "opt = SGD(learning_rate=0.0001, momentum=0.9, clipvalue=0.5)\n",
    "bcnn_losses = {\"coarse_prediction\": \"categorical_crossentropy\", \"fine_prediction\": \"categorical_crossentropy\"}\n",
    "#{\"coarse_prediction\": \"accuracy\", \"fine_prediction\": \"accuracy\"}\n",
    "initial_loss_weights = {\"coarse_prediction\": loss_w1, \"fine_prediction\": loss_w2}\n",
    "model.compile(optimizer=opt, loss=bcnn_losses, metrics=[\"accuracy\", \"accuracy\"], loss_weights=initial_loss_weights)"
   ]
  },
  {
   "cell_type": "code",
   "execution_count": null,
   "metadata": {
    "tags": []
   },
   "outputs": [],
   "source": [
    "model.summary()"
   ]
  },
  {
   "cell_type": "code",
   "execution_count": null,
   "metadata": {
    "tags": []
   },
   "outputs": [],
   "source": [
    "X_train, X_test, y_train, y_test = train_test_split(photos, fine_labels, test_size=0.2,\n",
    "                                               random_state = np.random.randint(1,356, 1)[0])\n",
    "X_train = X_train/255\n",
    "X_test = X_test/255\n",
    "\n",
    "# Creating empty matrices for the coarse labels of the train and test sets with the appropriate shapes\n",
    "y_coarse_train = np.zeros(y_train.shape[0]).astype(\"float32\")\n",
    "y_coarse_test = np.zeros(y_test.shape[0]).astype(\"float32\")\n",
    "\n",
    "# Filling up the matrices accordingly by putting 1 in the column corresponding to the correct coarse class\n",
    "for i in range(y_coarse_train.shape[0]):\n",
    "    y_coarse_train[i] = fine_to_coarse[y_train[i]]\n",
    "for i in range(y_coarse_test.shape[0]):\n",
    "    y_coarse_test[i] = fine_to_coarse[y_test[i]]"
   ]
  },
  {
   "cell_type": "code",
   "execution_count": null,
   "metadata": {
    "tags": []
   },
   "outputs": [],
   "source": [
    "#Preparing the callback:\n",
    "loss_w_modif = ModifyLossWeights(loss_w1, loss_w2)"
   ]
  },
  {
   "cell_type": "code",
   "execution_count": null,
   "metadata": {
    "tags": []
   },
   "outputs": [],
   "source": [
    "y_test = tf.keras.utils.to_categorical(y_test, num_classes = NB_FINE_CLASSES)\n",
    "y_train = tf.keras.utils.to_categorical(y_train, num_classes = NB_FINE_CLASSES)\n",
    "y_coarse_test = tf.keras.utils.to_categorical(y_coarse_test, num_classes = NB_COARSE_CLASSES)\n",
    "y_coarse_train = tf.keras.utils.to_categorical(y_coarse_train, num_classes = NB_COARSE_CLASSES)\n",
    "\n",
    "#callbacks=[loss_w_modif]\n",
    "trained_model = model.fit(X_train, [y_coarse_train, y_train], batch_size=50, epochs=50, verbose=1, validation_split=0.1)\n",
    "print(\"Val Score: \", model.evaluate(X_test, [y_coarse_test, y_test]))"
   ]
  },
  {
   "cell_type": "code",
   "execution_count": null,
   "metadata": {
    "tags": []
   },
   "outputs": [],
   "source": [
    "trained_model.history"
   ]
  },
  {
   "cell_type": "code",
   "execution_count": null,
   "metadata": {
    "colab": {
     "base_uri": "https://localhost:8080/",
     "height": 295
    },
    "executionInfo": {
     "elapsed": 906,
     "status": "ok",
     "timestamp": 1601929280293,
     "user": {
      "displayName": "Salma Tfq",
      "photoUrl": "",
      "userId": "10693606684911965000"
     },
     "user_tz": -120
    },
    "id": "98N0gxJwU9Rr",
    "outputId": "9928506c-b5ad-4d3a-e4bf-9599c63e514a",
    "tags": []
   },
   "outputs": [],
   "source": [
    "fig = plt.plot(trained_model.history[\"coarse_prediction_accuracy\"],label = \"Training - Coarse\", color='blue')\n",
    "plt.plot(trained_model.history[\"val_coarse_prediction_accuracy\"],label = \"Validation - Coarse\", color='green')\n",
    "plt.plot(trained_model.history[\"fine_prediction_accuracy\"],label = \"Training - Fine\", color='brown')\n",
    "plt.plot(trained_model.history[\"val_fine_prediction_accuracy\"],label = \"Validation - Fine\", color='orange')\n",
    "plt.legend(loc='lower right')\n",
    "plt.xlabel(\"Epochs\")\n",
    "plt.ylabel(\"Accuracy\")\n",
    "plt.title(\"Accuracy per epoch\")\n",
    "plt.show()"
   ]
  },
  {
   "cell_type": "code",
   "execution_count": null,
   "metadata": {
    "colab": {
     "base_uri": "https://localhost:8080/",
     "height": 295
    },
    "executionInfo": {
     "elapsed": 813,
     "status": "ok",
     "timestamp": 1601929281800,
     "user": {
      "displayName": "Salma Tfq",
      "photoUrl": "",
      "userId": "10693606684911965000"
     },
     "user_tz": -120
    },
    "id": "RJomu4Psz9D0",
    "outputId": "63ba7b90-1ccb-4186-914c-74bdb5eecf88",
    "tags": []
   },
   "outputs": [],
   "source": [
    "'''\n",
    "plt.plot(architecture_model.history[\"coarse_prediction_loss\"],label = \"Training - Coarse\", color='blue')\n",
    "plt.plot(architecture_model.history[\"val_coarse_prediction_loss\"],label = \"Testing - Coarse\", color='green')\n",
    "plt.plot(architecture_model.history[\"fine_prediction_loss\"],label = \"Training - Fine\", color='brown')\n",
    "plt.plot(architecture_model.history[\"val_fine_prediction_loss\"],label = \"Testing - Fine\", color='orange')\n",
    "plt.title('Model loss')\n",
    "plt.ylabel('Loss')\n",
    "plt.xlabel('Epoch')\n",
    "plt.legend(loc='upper right')\n",
    "plt.show()\n",
    "'''"
   ]
  },
  {
   "cell_type": "code",
   "execution_count": null,
   "metadata": {
    "id": "uDstZfDJJpcr",
    "tags": []
   },
   "outputs": [],
   "source": [
    "coarse_preds = model.predict(X_test)[0]\n",
    "fine_preds = model.predict(X_test)[1]"
   ]
  }
 ],
 "metadata": {
  "accelerator": "GPU",
  "availableInstances": [
   {
    "_defaultOrder": 0,
    "_isFastLaunch": true,
    "category": "General purpose",
    "gpuNum": 0,
    "hideHardwareSpecs": false,
    "memoryGiB": 4,
    "name": "ml.t3.medium",
    "vcpuNum": 2
   },
   {
    "_defaultOrder": 1,
    "_isFastLaunch": false,
    "category": "General purpose",
    "gpuNum": 0,
    "hideHardwareSpecs": false,
    "memoryGiB": 8,
    "name": "ml.t3.large",
    "vcpuNum": 2
   },
   {
    "_defaultOrder": 2,
    "_isFastLaunch": false,
    "category": "General purpose",
    "gpuNum": 0,
    "hideHardwareSpecs": false,
    "memoryGiB": 16,
    "name": "ml.t3.xlarge",
    "vcpuNum": 4
   },
   {
    "_defaultOrder": 3,
    "_isFastLaunch": false,
    "category": "General purpose",
    "gpuNum": 0,
    "hideHardwareSpecs": false,
    "memoryGiB": 32,
    "name": "ml.t3.2xlarge",
    "vcpuNum": 8
   },
   {
    "_defaultOrder": 4,
    "_isFastLaunch": true,
    "category": "General purpose",
    "gpuNum": 0,
    "hideHardwareSpecs": false,
    "memoryGiB": 8,
    "name": "ml.m5.large",
    "vcpuNum": 2
   },
   {
    "_defaultOrder": 5,
    "_isFastLaunch": false,
    "category": "General purpose",
    "gpuNum": 0,
    "hideHardwareSpecs": false,
    "memoryGiB": 16,
    "name": "ml.m5.xlarge",
    "vcpuNum": 4
   },
   {
    "_defaultOrder": 6,
    "_isFastLaunch": false,
    "category": "General purpose",
    "gpuNum": 0,
    "hideHardwareSpecs": false,
    "memoryGiB": 32,
    "name": "ml.m5.2xlarge",
    "vcpuNum": 8
   },
   {
    "_defaultOrder": 7,
    "_isFastLaunch": false,
    "category": "General purpose",
    "gpuNum": 0,
    "hideHardwareSpecs": false,
    "memoryGiB": 64,
    "name": "ml.m5.4xlarge",
    "vcpuNum": 16
   },
   {
    "_defaultOrder": 8,
    "_isFastLaunch": false,
    "category": "General purpose",
    "gpuNum": 0,
    "hideHardwareSpecs": false,
    "memoryGiB": 128,
    "name": "ml.m5.8xlarge",
    "vcpuNum": 32
   },
   {
    "_defaultOrder": 9,
    "_isFastLaunch": false,
    "category": "General purpose",
    "gpuNum": 0,
    "hideHardwareSpecs": false,
    "memoryGiB": 192,
    "name": "ml.m5.12xlarge",
    "vcpuNum": 48
   },
   {
    "_defaultOrder": 10,
    "_isFastLaunch": false,
    "category": "General purpose",
    "gpuNum": 0,
    "hideHardwareSpecs": false,
    "memoryGiB": 256,
    "name": "ml.m5.16xlarge",
    "vcpuNum": 64
   },
   {
    "_defaultOrder": 11,
    "_isFastLaunch": false,
    "category": "General purpose",
    "gpuNum": 0,
    "hideHardwareSpecs": false,
    "memoryGiB": 384,
    "name": "ml.m5.24xlarge",
    "vcpuNum": 96
   },
   {
    "_defaultOrder": 12,
    "_isFastLaunch": false,
    "category": "General purpose",
    "gpuNum": 0,
    "hideHardwareSpecs": false,
    "memoryGiB": 8,
    "name": "ml.m5d.large",
    "vcpuNum": 2
   },
   {
    "_defaultOrder": 13,
    "_isFastLaunch": false,
    "category": "General purpose",
    "gpuNum": 0,
    "hideHardwareSpecs": false,
    "memoryGiB": 16,
    "name": "ml.m5d.xlarge",
    "vcpuNum": 4
   },
   {
    "_defaultOrder": 14,
    "_isFastLaunch": false,
    "category": "General purpose",
    "gpuNum": 0,
    "hideHardwareSpecs": false,
    "memoryGiB": 32,
    "name": "ml.m5d.2xlarge",
    "vcpuNum": 8
   },
   {
    "_defaultOrder": 15,
    "_isFastLaunch": false,
    "category": "General purpose",
    "gpuNum": 0,
    "hideHardwareSpecs": false,
    "memoryGiB": 64,
    "name": "ml.m5d.4xlarge",
    "vcpuNum": 16
   },
   {
    "_defaultOrder": 16,
    "_isFastLaunch": false,
    "category": "General purpose",
    "gpuNum": 0,
    "hideHardwareSpecs": false,
    "memoryGiB": 128,
    "name": "ml.m5d.8xlarge",
    "vcpuNum": 32
   },
   {
    "_defaultOrder": 17,
    "_isFastLaunch": false,
    "category": "General purpose",
    "gpuNum": 0,
    "hideHardwareSpecs": false,
    "memoryGiB": 192,
    "name": "ml.m5d.12xlarge",
    "vcpuNum": 48
   },
   {
    "_defaultOrder": 18,
    "_isFastLaunch": false,
    "category": "General purpose",
    "gpuNum": 0,
    "hideHardwareSpecs": false,
    "memoryGiB": 256,
    "name": "ml.m5d.16xlarge",
    "vcpuNum": 64
   },
   {
    "_defaultOrder": 19,
    "_isFastLaunch": false,
    "category": "General purpose",
    "gpuNum": 0,
    "hideHardwareSpecs": false,
    "memoryGiB": 384,
    "name": "ml.m5d.24xlarge",
    "vcpuNum": 96
   },
   {
    "_defaultOrder": 20,
    "_isFastLaunch": false,
    "category": "General purpose",
    "gpuNum": 0,
    "hideHardwareSpecs": true,
    "memoryGiB": 0,
    "name": "ml.geospatial.interactive",
    "supportedImageNames": [
     "sagemaker-geospatial-v1-0"
    ],
    "vcpuNum": 0
   },
   {
    "_defaultOrder": 21,
    "_isFastLaunch": true,
    "category": "Compute optimized",
    "gpuNum": 0,
    "hideHardwareSpecs": false,
    "memoryGiB": 4,
    "name": "ml.c5.large",
    "vcpuNum": 2
   },
   {
    "_defaultOrder": 22,
    "_isFastLaunch": false,
    "category": "Compute optimized",
    "gpuNum": 0,
    "hideHardwareSpecs": false,
    "memoryGiB": 8,
    "name": "ml.c5.xlarge",
    "vcpuNum": 4
   },
   {
    "_defaultOrder": 23,
    "_isFastLaunch": false,
    "category": "Compute optimized",
    "gpuNum": 0,
    "hideHardwareSpecs": false,
    "memoryGiB": 16,
    "name": "ml.c5.2xlarge",
    "vcpuNum": 8
   },
   {
    "_defaultOrder": 24,
    "_isFastLaunch": false,
    "category": "Compute optimized",
    "gpuNum": 0,
    "hideHardwareSpecs": false,
    "memoryGiB": 32,
    "name": "ml.c5.4xlarge",
    "vcpuNum": 16
   },
   {
    "_defaultOrder": 25,
    "_isFastLaunch": false,
    "category": "Compute optimized",
    "gpuNum": 0,
    "hideHardwareSpecs": false,
    "memoryGiB": 72,
    "name": "ml.c5.9xlarge",
    "vcpuNum": 36
   },
   {
    "_defaultOrder": 26,
    "_isFastLaunch": false,
    "category": "Compute optimized",
    "gpuNum": 0,
    "hideHardwareSpecs": false,
    "memoryGiB": 96,
    "name": "ml.c5.12xlarge",
    "vcpuNum": 48
   },
   {
    "_defaultOrder": 27,
    "_isFastLaunch": false,
    "category": "Compute optimized",
    "gpuNum": 0,
    "hideHardwareSpecs": false,
    "memoryGiB": 144,
    "name": "ml.c5.18xlarge",
    "vcpuNum": 72
   },
   {
    "_defaultOrder": 28,
    "_isFastLaunch": false,
    "category": "Compute optimized",
    "gpuNum": 0,
    "hideHardwareSpecs": false,
    "memoryGiB": 192,
    "name": "ml.c5.24xlarge",
    "vcpuNum": 96
   },
   {
    "_defaultOrder": 29,
    "_isFastLaunch": true,
    "category": "Accelerated computing",
    "gpuNum": 1,
    "hideHardwareSpecs": false,
    "memoryGiB": 16,
    "name": "ml.g4dn.xlarge",
    "vcpuNum": 4
   },
   {
    "_defaultOrder": 30,
    "_isFastLaunch": false,
    "category": "Accelerated computing",
    "gpuNum": 1,
    "hideHardwareSpecs": false,
    "memoryGiB": 32,
    "name": "ml.g4dn.2xlarge",
    "vcpuNum": 8
   },
   {
    "_defaultOrder": 31,
    "_isFastLaunch": false,
    "category": "Accelerated computing",
    "gpuNum": 1,
    "hideHardwareSpecs": false,
    "memoryGiB": 64,
    "name": "ml.g4dn.4xlarge",
    "vcpuNum": 16
   },
   {
    "_defaultOrder": 32,
    "_isFastLaunch": false,
    "category": "Accelerated computing",
    "gpuNum": 1,
    "hideHardwareSpecs": false,
    "memoryGiB": 128,
    "name": "ml.g4dn.8xlarge",
    "vcpuNum": 32
   },
   {
    "_defaultOrder": 33,
    "_isFastLaunch": false,
    "category": "Accelerated computing",
    "gpuNum": 4,
    "hideHardwareSpecs": false,
    "memoryGiB": 192,
    "name": "ml.g4dn.12xlarge",
    "vcpuNum": 48
   },
   {
    "_defaultOrder": 34,
    "_isFastLaunch": false,
    "category": "Accelerated computing",
    "gpuNum": 1,
    "hideHardwareSpecs": false,
    "memoryGiB": 256,
    "name": "ml.g4dn.16xlarge",
    "vcpuNum": 64
   },
   {
    "_defaultOrder": 35,
    "_isFastLaunch": false,
    "category": "Accelerated computing",
    "gpuNum": 1,
    "hideHardwareSpecs": false,
    "memoryGiB": 61,
    "name": "ml.p3.2xlarge",
    "vcpuNum": 8
   },
   {
    "_defaultOrder": 36,
    "_isFastLaunch": false,
    "category": "Accelerated computing",
    "gpuNum": 4,
    "hideHardwareSpecs": false,
    "memoryGiB": 244,
    "name": "ml.p3.8xlarge",
    "vcpuNum": 32
   },
   {
    "_defaultOrder": 37,
    "_isFastLaunch": false,
    "category": "Accelerated computing",
    "gpuNum": 8,
    "hideHardwareSpecs": false,
    "memoryGiB": 488,
    "name": "ml.p3.16xlarge",
    "vcpuNum": 64
   },
   {
    "_defaultOrder": 38,
    "_isFastLaunch": false,
    "category": "Accelerated computing",
    "gpuNum": 8,
    "hideHardwareSpecs": false,
    "memoryGiB": 768,
    "name": "ml.p3dn.24xlarge",
    "vcpuNum": 96
   },
   {
    "_defaultOrder": 39,
    "_isFastLaunch": false,
    "category": "Memory Optimized",
    "gpuNum": 0,
    "hideHardwareSpecs": false,
    "memoryGiB": 16,
    "name": "ml.r5.large",
    "vcpuNum": 2
   },
   {
    "_defaultOrder": 40,
    "_isFastLaunch": false,
    "category": "Memory Optimized",
    "gpuNum": 0,
    "hideHardwareSpecs": false,
    "memoryGiB": 32,
    "name": "ml.r5.xlarge",
    "vcpuNum": 4
   },
   {
    "_defaultOrder": 41,
    "_isFastLaunch": false,
    "category": "Memory Optimized",
    "gpuNum": 0,
    "hideHardwareSpecs": false,
    "memoryGiB": 64,
    "name": "ml.r5.2xlarge",
    "vcpuNum": 8
   },
   {
    "_defaultOrder": 42,
    "_isFastLaunch": false,
    "category": "Memory Optimized",
    "gpuNum": 0,
    "hideHardwareSpecs": false,
    "memoryGiB": 128,
    "name": "ml.r5.4xlarge",
    "vcpuNum": 16
   },
   {
    "_defaultOrder": 43,
    "_isFastLaunch": false,
    "category": "Memory Optimized",
    "gpuNum": 0,
    "hideHardwareSpecs": false,
    "memoryGiB": 256,
    "name": "ml.r5.8xlarge",
    "vcpuNum": 32
   },
   {
    "_defaultOrder": 44,
    "_isFastLaunch": false,
    "category": "Memory Optimized",
    "gpuNum": 0,
    "hideHardwareSpecs": false,
    "memoryGiB": 384,
    "name": "ml.r5.12xlarge",
    "vcpuNum": 48
   },
   {
    "_defaultOrder": 45,
    "_isFastLaunch": false,
    "category": "Memory Optimized",
    "gpuNum": 0,
    "hideHardwareSpecs": false,
    "memoryGiB": 512,
    "name": "ml.r5.16xlarge",
    "vcpuNum": 64
   },
   {
    "_defaultOrder": 46,
    "_isFastLaunch": false,
    "category": "Memory Optimized",
    "gpuNum": 0,
    "hideHardwareSpecs": false,
    "memoryGiB": 768,
    "name": "ml.r5.24xlarge",
    "vcpuNum": 96
   },
   {
    "_defaultOrder": 47,
    "_isFastLaunch": false,
    "category": "Accelerated computing",
    "gpuNum": 1,
    "hideHardwareSpecs": false,
    "memoryGiB": 16,
    "name": "ml.g5.xlarge",
    "vcpuNum": 4
   },
   {
    "_defaultOrder": 48,
    "_isFastLaunch": false,
    "category": "Accelerated computing",
    "gpuNum": 1,
    "hideHardwareSpecs": false,
    "memoryGiB": 32,
    "name": "ml.g5.2xlarge",
    "vcpuNum": 8
   },
   {
    "_defaultOrder": 49,
    "_isFastLaunch": false,
    "category": "Accelerated computing",
    "gpuNum": 1,
    "hideHardwareSpecs": false,
    "memoryGiB": 64,
    "name": "ml.g5.4xlarge",
    "vcpuNum": 16
   },
   {
    "_defaultOrder": 50,
    "_isFastLaunch": false,
    "category": "Accelerated computing",
    "gpuNum": 1,
    "hideHardwareSpecs": false,
    "memoryGiB": 128,
    "name": "ml.g5.8xlarge",
    "vcpuNum": 32
   },
   {
    "_defaultOrder": 51,
    "_isFastLaunch": false,
    "category": "Accelerated computing",
    "gpuNum": 1,
    "hideHardwareSpecs": false,
    "memoryGiB": 256,
    "name": "ml.g5.16xlarge",
    "vcpuNum": 64
   },
   {
    "_defaultOrder": 52,
    "_isFastLaunch": false,
    "category": "Accelerated computing",
    "gpuNum": 4,
    "hideHardwareSpecs": false,
    "memoryGiB": 192,
    "name": "ml.g5.12xlarge",
    "vcpuNum": 48
   },
   {
    "_defaultOrder": 53,
    "_isFastLaunch": false,
    "category": "Accelerated computing",
    "gpuNum": 4,
    "hideHardwareSpecs": false,
    "memoryGiB": 384,
    "name": "ml.g5.24xlarge",
    "vcpuNum": 96
   },
   {
    "_defaultOrder": 54,
    "_isFastLaunch": false,
    "category": "Accelerated computing",
    "gpuNum": 8,
    "hideHardwareSpecs": false,
    "memoryGiB": 768,
    "name": "ml.g5.48xlarge",
    "vcpuNum": 192
   },
   {
    "_defaultOrder": 55,
    "_isFastLaunch": false,
    "category": "Accelerated computing",
    "gpuNum": 8,
    "hideHardwareSpecs": false,
    "memoryGiB": 1152,
    "name": "ml.p4d.24xlarge",
    "vcpuNum": 96
   },
   {
    "_defaultOrder": 56,
    "_isFastLaunch": false,
    "category": "Accelerated computing",
    "gpuNum": 8,
    "hideHardwareSpecs": false,
    "memoryGiB": 1152,
    "name": "ml.p4de.24xlarge",
    "vcpuNum": 96
   },
   {
    "_defaultOrder": 57,
    "_isFastLaunch": false,
    "category": "Accelerated computing",
    "gpuNum": 0,
    "hideHardwareSpecs": false,
    "memoryGiB": 32,
    "name": "ml.trn1.2xlarge",
    "vcpuNum": 8
   },
   {
    "_defaultOrder": 58,
    "_isFastLaunch": false,
    "category": "Accelerated computing",
    "gpuNum": 0,
    "hideHardwareSpecs": false,
    "memoryGiB": 512,
    "name": "ml.trn1.32xlarge",
    "vcpuNum": 128
   },
   {
    "_defaultOrder": 59,
    "_isFastLaunch": false,
    "category": "Accelerated computing",
    "gpuNum": 0,
    "hideHardwareSpecs": false,
    "memoryGiB": 512,
    "name": "ml.trn1n.32xlarge",
    "vcpuNum": 128
   }
  ],
  "colab": {
   "gpuType": "T4",
   "provenance": [
    {
     "file_id": "1shpEWPLXrT8Wh8dmnlFEhTm7vE9NucRn",
     "timestamp": 1709467317156
    },
    {
     "file_id": "1UtpQ45Uja5GU4ZKRRz_rQR6JeDnnL3jg",
     "timestamp": 1602142990976
    },
    {
     "file_id": "194UGRZUx704m6heN9tieE9BdJpVFhVCJ",
     "timestamp": 1587036376032
    },
    {
     "file_id": "1qY4omZfY3ab60hKy7ScHL9-fwTFSegu-",
     "timestamp": 1586794548493
    }
   ],
   "toc_visible": true
  },
  "instance_type": "ml.g5.12xlarge",
  "kernelspec": {
   "display_name": "Python 3 (Data Science 3.0)",
   "language": "python",
   "name": "python3__SAGEMAKER_INTERNAL__arn:aws:sagemaker:us-east-1:081325390199:image/sagemaker-data-science-310-v1"
  },
  "language_info": {
   "codemirror_mode": {
    "name": "ipython",
    "version": 3
   },
   "file_extension": ".py",
   "mimetype": "text/x-python",
   "name": "python",
   "nbconvert_exporter": "python",
   "pygments_lexer": "ipython3",
   "version": "3.10.6"
  }
 },
 "nbformat": 4,
 "nbformat_minor": 4
}
